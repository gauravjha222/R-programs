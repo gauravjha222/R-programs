{
  "nbformat": 4,
  "nbformat_minor": 0,
  "metadata": {
    "colab": {
      "provenance": [],
      "authorship_tag": "ABX9TyPJPhSvpnrwZptBw+8dNbo9",
      "include_colab_link": true
    },
    "kernelspec": {
      "name": "ir",
      "display_name": "R"
    },
    "language_info": {
      "name": "R"
    }
  },
  "cells": [
    {
      "cell_type": "markdown",
      "metadata": {
        "id": "view-in-github",
        "colab_type": "text"
      },
      "source": [
        "<a href=\"https://colab.research.google.com/github/Hussainaquib/R-programs/blob/main/Lab3.ipynb\" target=\"_parent\"><img src=\"https://colab.research.google.com/assets/colab-badge.svg\" alt=\"Open In Colab\"/></a>"
      ]
    },
    {
      "cell_type": "markdown",
      "source": [
        "**Confirm the specific locations of elements equal to 0 in the 10 X 10 identity matrix**"
      ],
      "metadata": {
        "id": "bnAu0xDoHuSK"
      }
    },
    {
      "cell_type": "code",
      "execution_count": 1,
      "metadata": {
        "colab": {
          "base_uri": "https://localhost:8080/"
        },
        "id": "zBnuTQlJHLfV",
        "outputId": "123c24ce-331e-416e-e354-cb1195a4e6ed"
      },
      "outputs": [
        {
          "output_type": "stream",
          "name": "stdout",
          "text": [
            "numeric(0)\n"
          ]
        }
      ],
      "source": [
        "m <-diag(10)\n",
        "n<-m[0,1]\n",
        "print(n)"
      ]
    },
    {
      "cell_type": "markdown",
      "source": [
        "**Store thid vector of 10 values: foo<-c(7,5,6,1,2,10,8,3,8,2) . then do the folowing:**"
      ],
      "metadata": {
        "id": "Qh90bKw6IZzO"
      }
    },
    {
      "cell_type": "markdown",
      "source": [
        "**(i) Extract the elements greater than or equal to 5,storing the result as bar**"
      ],
      "metadata": {
        "id": "LUzcS1juIzJg"
      }
    },
    {
      "cell_type": "code",
      "source": [
        "foo<-c(7,5,6,1,2,10,8,3,8,2)\n",
        "bar<-c()\n",
        "for (i in foo){\n",
        "  if(i>=5){\n",
        "    bar =append(bar,i)\n",
        "  }\n",
        "}\n",
        "print(bar)"
      ],
      "metadata": {
        "colab": {
          "base_uri": "https://localhost:8080/"
        },
        "id": "LUtZub4gJDRD",
        "outputId": "69312571-7e3a-476b-e35a-a24b81188f89"
      },
      "execution_count": 2,
      "outputs": [
        {
          "output_type": "stream",
          "name": "stdout",
          "text": [
            "[1]  7  5  6 10  8  8\n"
          ]
        }
      ]
    },
    {
      "cell_type": "markdown",
      "source": [
        "**(ii) Display the vector containing those elements from foo that remain after omitting all elements than or equal to 5**"
      ],
      "metadata": {
        "id": "LorNabvvJMDZ"
      }
    },
    {
      "cell_type": "code",
      "source": [
        "foo <-c(7,5,6,1,2,10,8,3,8,2)\n",
        "bar<-c()\n",
        "for (i in foo) {\n",
        "  if (i<5){\n",
        "    bar=append(bar,i)\n",
        "     }\n",
        "}\n",
        "print(bar)"
      ],
      "metadata": {
        "colab": {
          "base_uri": "https://localhost:8080/"
        },
        "id": "sgsvEmV7JikZ",
        "outputId": "dbd32ed3-b4a1-4781-8588-bed3537a1765"
      },
      "execution_count": 3,
      "outputs": [
        {
          "output_type": "stream",
          "name": "stdout",
          "text": [
            "[1] 1 2 3 2\n"
          ]
        }
      ]
    },
    {
      "cell_type": "markdown",
      "source": [
        "**store the string \"Two 6-packs for $12.99\". then do the following**"
      ],
      "metadata": {
        "id": "rIcCWlzsJpG6"
      }
    },
    {
      "cell_type": "markdown",
      "source": [
        "**(i) Use a check for equality to confirm that the substring begining with character 5 and ending with character 10 is \"6-pack\"**"
      ],
      "metadata": {
        "id": "CLDHKWStJ2c0"
      }
    },
    {
      "cell_type": "code",
      "source": [
        "str1<-substring(\"two 6-packs for $12.99\",5,10)\n",
        "str2<-\"6-pack\"\n",
        "if(str1==str2){\n",
        "  print(\"YES\")\n",
        "}else{\n",
        "  print(\"NO\")\n",
        "}"
      ],
      "metadata": {
        "colab": {
          "base_uri": "https://localhost:8080/"
        },
        "id": "ZokccnynKNwK",
        "outputId": "749ad4bc-4b64-4af3-9e37-9101b966ffa8"
      },
      "execution_count": 4,
      "outputs": [
        {
          "output_type": "stream",
          "name": "stdout",
          "text": [
            "[1] \"YES\"\n"
          ]
        }
      ]
    },
    {
      "cell_type": "markdown",
      "source": [
        "**(ii) Make it a better deal by changing the price to $10.99.**"
      ],
      "metadata": {
        "id": "ZAVrf8yVKWhq"
      }
    },
    {
      "cell_type": "code",
      "source": [
        "print(gsub(\"2\",\"0\",\"Two 6-packs for $12.99\"))"
      ],
      "metadata": {
        "colab": {
          "base_uri": "https://localhost:8080/"
        },
        "id": "Xr3tRgYOKiuI",
        "outputId": "c7b8e5df-8b27-4a8d-b1fc-e6c55b09336b"
      },
      "execution_count": 5,
      "outputs": [
        {
          "output_type": "stream",
          "name": "stdout",
          "text": [
            "[1] \"Two 6-packs for $10.99\"\n"
          ]
        }
      ]
    },
    {
      "cell_type": "markdown",
      "source": [
        "**Create a factor with levels of confidence as follows: Low for percentage[0.30]; Moderate for percentages (30,70]; and high for percentages (70,100].**"
      ],
      "metadata": {
        "id": "U4cQvRQsKqSU"
      }
    },
    {
      "cell_type": "code",
      "source": [
        "m<-c(22,44,56,33,78,95,85)\n",
        "n<-cut(m,breaks=c(0,30,70,100),labels =c(\"Low for percentage\",\"moderate for percentage\",\"high for percentage\"))\n",
        "print(n)"
      ],
      "metadata": {
        "colab": {
          "base_uri": "https://localhost:8080/"
        },
        "id": "rsnTnr44LJan",
        "outputId": "b4d3f3d5-3bc9-481b-e6a7-b1adf58d4f2c"
      },
      "execution_count": 6,
      "outputs": [
        {
          "output_type": "stream",
          "name": "stdout",
          "text": [
            "[1] Low for percentage      moderate for percentage moderate for percentage\n",
            "[4] moderate for percentage high for percentage     high for percentage    \n",
            "[7] high for percentage    \n",
            "Levels: Low for percentage moderate for percentage high for percentage\n"
          ]
        }
      ]
    }
  ]
}