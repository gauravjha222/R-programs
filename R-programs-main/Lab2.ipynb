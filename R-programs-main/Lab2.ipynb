{
  "nbformat": 4,
  "nbformat_minor": 0,
  "metadata": {
    "colab": {
      "provenance": [],
      "authorship_tag": "ABX9TyOYyC2+jUEI4XlYrVjnRFUP",
      "include_colab_link": true
    },
    "kernelspec": {
      "name": "ir",
      "display_name": "R"
    },
    "language_info": {
      "name": "R"
    }
  },
  "cells": [
    {
      "cell_type": "markdown",
      "metadata": {
        "id": "view-in-github",
        "colab_type": "text"
      },
      "source": [
        "<a href=\"https://colab.research.google.com/github/Hussainaquib/R-programs/blob/main/Lab2.ipynb\" target=\"_parent\"><img src=\"https://colab.research.google.com/assets/colab-badge.svg\" alt=\"Open In Colab\"/></a>"
      ]
    },
    {
      "cell_type": "markdown",
      "source": [
        "**Write R code to create a 3x3 matrix filled with the values 1 to 9, using the matrix() function. Then extract the first row and last column of the matrix using row and column indexing.**"
      ],
      "metadata": {
        "id": "HLKqFU2JyHDh"
      }
    },
    {
      "cell_type": "code",
      "execution_count": null,
      "metadata": {
        "colab": {
          "base_uri": "https://localhost:8080/"
        },
        "id": "B1JPXbybx7h6",
        "outputId": "f7493596-aee4-4b78-a504-c7f4d2091acf"
      },
      "outputs": [
        {
          "output_type": "stream",
          "name": "stdout",
          "text": [
            "     [,1] [,2] [,3]\n",
            "[1,]    1    4    7\n",
            "[2,]    2    5    8\n",
            "[3,]    3    6    9\n",
            "[1] 1 4 7\n",
            "[1] 7 8 9\n"
          ]
        }
      ],
      "source": [
        "m=matrix(1:9,nrow=3,ncol=3)\n",
        "print(m)\n",
        "print(m[1,])\n",
        "print(m[,3])"
      ]
    },
    {
      "cell_type": "markdown",
      "source": [
        "**Define a 4x4 matrix with all elements set to 0, and then fill the diagonal with the values 1, 2, 3, and 4 using the diag()**"
      ],
      "metadata": {
        "id": "SnuMI8ZGyfsG"
      }
    },
    {
      "cell_type": "code",
      "source": [
        "m= matrix(0:0,nrow=4,ncol=4)\n",
        "diag(m)<-c(1,2,3,4)\n",
        "print(m)"
      ],
      "metadata": {
        "colab": {
          "base_uri": "https://localhost:8080/"
        },
        "id": "VxCjyo_Pyn4R",
        "outputId": "a68f2007-e0ee-46cc-f485-2d2f9262e39f"
      },
      "execution_count": null,
      "outputs": [
        {
          "output_type": "stream",
          "name": "stdout",
          "text": [
            "     [,1] [,2] [,3] [,4]\n",
            "[1,]    1    0    0    0\n",
            "[2,]    0    2    0    0\n",
            "[3,]    0    0    3    0\n",
            "[4,]    0    0    0    4\n"
          ]
        }
      ]
    },
    {
      "cell_type": "markdown",
      "source": [
        "**Create two matrices, A and B, each with dimensions 3x3, filled with random values. Combine them into a single matrix C by binding them together by columns**"
      ],
      "metadata": {
        "id": "1P0PmyS5yxB7"
      }
    },
    {
      "cell_type": "code",
      "source": [
        "A<-matrix(seq(1,4),nrow=2,ncol=2,byrow=TRUE)\n",
        "B<-matrix(seq(5,8),nrow=2,ncol=2,byrow=TRUE)\n",
        "C<-cbind(A,B)\n",
        "print(C)"
      ],
      "metadata": {
        "colab": {
          "base_uri": "https://localhost:8080/"
        },
        "id": "Wf1J-XNmy767",
        "outputId": "3c79ef2e-b812-4e09-c5cb-1f5df191ad6d"
      },
      "execution_count": null,
      "outputs": [
        {
          "output_type": "stream",
          "name": "stdout",
          "text": [
            "     [,1] [,2] [,3] [,4]\n",
            "[1,]    1    2    5    6\n",
            "[2,]    3    4    7    8\n"
          ]
        }
      ]
    },
    {
      "cell_type": "markdown",
      "source": [
        "**Define a 5x5 matrix and replace the values in the 3rd row and 4th column with the value 0, using indexing**"
      ],
      "metadata": {
        "id": "nI7ciuS_znKr"
      }
    },
    {
      "cell_type": "code",
      "source": [
        "m5=matrix(1:25,nrow=5,ncol=5)\n",
        "m5[3,4]<-0\n",
        "print(m5)"
      ],
      "metadata": {
        "colab": {
          "base_uri": "https://localhost:8080/"
        },
        "id": "sPEVFabazqeQ",
        "outputId": "28e917f8-c121-454b-9a92-d133d7ea92ac"
      },
      "execution_count": null,
      "outputs": [
        {
          "output_type": "stream",
          "name": "stdout",
          "text": [
            "     [,1] [,2] [,3] [,4] [,5]\n",
            "[1,]    1    6   11   16   21\n",
            "[2,]    2    7   12   17   22\n",
            "[3,]    3    8   13    0   23\n",
            "[4,]    4    9   14   19   24\n",
            "[5,]    5   10   15   20   25\n"
          ]
        }
      ]
    },
    {
      "cell_type": "markdown",
      "source": [
        "**2x2 matrix with any values you choose, and then extract the elements in the top-right and bottom-left positions using the indexing operator**"
      ],
      "metadata": {
        "id": "R4wW3hwtz1hy"
      }
    },
    {
      "cell_type": "code",
      "source": [
        "x<-matrix(1:4,nrow=2,ncol=2)\n",
        "print(x[1,2])\n",
        "print(x[2,1])"
      ],
      "metadata": {
        "colab": {
          "base_uri": "https://localhost:8080/"
        },
        "id": "16R2wFF5z5GA",
        "outputId": "4bc85927-3872-4aab-fb55-8773c24b16be"
      },
      "execution_count": null,
      "outputs": [
        {
          "output_type": "stream",
          "name": "stdout",
          "text": [
            "[1] 3\n",
            "[1] 2\n"
          ]
        }
      ]
    },
    {
      "cell_type": "markdown",
      "source": [
        "**Create a three dimensional array with six layer of a 4X2 matrix , filled with decreasing sequence of values between 4.8 to 0.1 of appropriate length**"
      ],
      "metadata": {
        "id": "9iJaitPd8F6s"
      }
    },
    {
      "cell_type": "code",
      "source": [
        "seq<-seq(0.1, 4.8 ,by = 0.1)\n",
        "sort<-sort(seq,decreasing = TRUE)\n",
        "matrix<- array(sort,dim=c(4,2,6))\n",
        "print(matrix)"
      ],
      "metadata": {
        "colab": {
          "base_uri": "https://localhost:8080/"
        },
        "id": "ixKUUOOO8iiD",
        "outputId": "ac5d77ba-ee06-409d-ba47-613bb2e35008"
      },
      "execution_count": null,
      "outputs": [
        {
          "output_type": "stream",
          "name": "stdout",
          "text": [
            ", , 1\n",
            "\n",
            "     [,1] [,2]\n",
            "[1,]  4.8  4.4\n",
            "[2,]  4.7  4.3\n",
            "[3,]  4.6  4.2\n",
            "[4,]  4.5  4.1\n",
            "\n",
            ", , 2\n",
            "\n",
            "     [,1] [,2]\n",
            "[1,]  4.0  3.6\n",
            "[2,]  3.9  3.5\n",
            "[3,]  3.8  3.4\n",
            "[4,]  3.7  3.3\n",
            "\n",
            ", , 3\n",
            "\n",
            "     [,1] [,2]\n",
            "[1,]  3.2  2.8\n",
            "[2,]  3.1  2.7\n",
            "[3,]  3.0  2.6\n",
            "[4,]  2.9  2.5\n",
            "\n",
            ", , 4\n",
            "\n",
            "     [,1] [,2]\n",
            "[1,]  2.4  2.0\n",
            "[2,]  2.3  1.9\n",
            "[3,]  2.2  1.8\n",
            "[4,]  2.1  1.7\n",
            "\n",
            ", , 5\n",
            "\n",
            "     [,1] [,2]\n",
            "[1,]  1.6  1.2\n",
            "[2,]  1.5  1.1\n",
            "[3,]  1.4  1.0\n",
            "[4,]  1.3  0.9\n",
            "\n",
            ", , 6\n",
            "\n",
            "     [,1] [,2]\n",
            "[1,]  0.8  0.4\n",
            "[2,]  0.7  0.3\n",
            "[3,]  0.6  0.2\n",
            "[4,]  0.5  0.1\n",
            "\n"
          ]
        }
      ]
    },
    {
      "cell_type": "markdown",
      "source": [
        "**Extract and store as a new object the fourth and first row elements in that order , of the second column only of all layers of previous question**"
      ],
      "metadata": {
        "id": "qMmKgqQuCA9w"
      }
    },
    {
      "cell_type": "code",
      "source": [
        "seq<-seq(0.1, 4.8 ,by = 0.1)\n",
        "sort<-sort(seq,decreasing = TRUE)\n",
        "matrix<- array(sort,dim=c(4,2,6))\n",
        "Extract <-matrix[c(1,4),2 , ]\n",
        "print(Extract)"
      ],
      "metadata": {
        "colab": {
          "base_uri": "https://localhost:8080/"
        },
        "id": "rH98vxtwBYT5",
        "outputId": "7ee691b3-c3da-4276-cab1-f452e56ae059"
      },
      "execution_count": null,
      "outputs": [
        {
          "output_type": "stream",
          "name": "stdout",
          "text": [
            "     [,1] [,2] [,3] [,4] [,5] [,6]\n",
            "[1,]  4.4  3.6  2.8  2.0  1.2  0.4\n",
            "[2,]  4.1  3.3  2.5  1.7  0.9  0.1\n"
          ]
        }
      ]
    },
    {
      "cell_type": "markdown",
      "source": [
        "**Use a fourfold repetition of the second row of matrix formed in previous question to fill a new array of dimensions 2X2X2**"
      ],
      "metadata": {
        "id": "ql2C2u9SCzRf"
      }
    },
    {
      "cell_type": "code",
      "source": [
        "seq<-seq(0.1, 4.8 ,by = 0.1)\n",
        "sort<-sort(seq,decreasing = TRUE)\n",
        "matrix<- array(sort,dim=c(4,2,6))\n",
        "Extract <-matrix[c(1,4),2 , ]\n",
        "a= rep(Extract[2, ],4)\n",
        "new= array(a,dim =c(2,2,2))\n",
        "print(new)"
      ],
      "metadata": {
        "colab": {
          "base_uri": "https://localhost:8080/"
        },
        "id": "qrKgzqF6DMNG",
        "outputId": "de484fec-8e59-4996-fe3a-95fbbcfe7d80"
      },
      "execution_count": null,
      "outputs": [
        {
          "output_type": "stream",
          "name": "stdout",
          "text": [
            ", , 1\n",
            "\n",
            "     [,1] [,2]\n",
            "[1,]  4.1  2.5\n",
            "[2,]  3.3  1.7\n",
            "\n",
            ", , 2\n",
            "\n",
            "     [,1] [,2]\n",
            "[1,]  0.9  4.1\n",
            "[2,]  0.1  3.3\n",
            "\n"
          ]
        }
      ]
    },
    {
      "cell_type": "markdown",
      "source": [
        "**Create a new array comprised of the results of deleting the sixth layer**"
      ],
      "metadata": {
        "id": "yurdHl2gEIlm"
      }
    },
    {
      "cell_type": "code",
      "source": [
        "seq<-seq(0.1, 4.8 ,by = 0.1)\n",
        "sort<-sort(seq,decreasing = TRUE)\n",
        "matrix<- array(sort,dim=c(4,2,6))\n",
        "extract <-matrix[ , ,-6]\n",
        "print(extract)"
      ],
      "metadata": {
        "colab": {
          "base_uri": "https://localhost:8080/"
        },
        "id": "MD5VadlpEZ0G",
        "outputId": "c566d30f-f091-4940-922c-1336aea97e82"
      },
      "execution_count": null,
      "outputs": [
        {
          "output_type": "stream",
          "name": "stdout",
          "text": [
            ", , 1\n",
            "\n",
            "     [,1] [,2]\n",
            "[1,]  4.8  4.4\n",
            "[2,]  4.7  4.3\n",
            "[3,]  4.6  4.2\n",
            "[4,]  4.5  4.1\n",
            "\n",
            ", , 2\n",
            "\n",
            "     [,1] [,2]\n",
            "[1,]  4.0  3.6\n",
            "[2,]  3.9  3.5\n",
            "[3,]  3.8  3.4\n",
            "[4,]  3.7  3.3\n",
            "\n",
            ", , 3\n",
            "\n",
            "     [,1] [,2]\n",
            "[1,]  3.2  2.8\n",
            "[2,]  3.1  2.7\n",
            "[3,]  3.0  2.6\n",
            "[4,]  2.9  2.5\n",
            "\n",
            ", , 4\n",
            "\n",
            "     [,1] [,2]\n",
            "[1,]  2.4  2.0\n",
            "[2,]  2.3  1.9\n",
            "[3,]  2.2  1.8\n",
            "[4,]  2.1  1.7\n",
            "\n",
            ", , 5\n",
            "\n",
            "     [,1] [,2]\n",
            "[1,]  1.6  1.2\n",
            "[2,]  1.5  1.1\n",
            "[3,]  1.4  1.0\n",
            "[4,]  1.3  0.9\n",
            "\n"
          ]
        }
      ]
    },
    {
      "cell_type": "markdown",
      "source": [
        "**Overwrite the second and fourth row elements of the second column of layers 1,3 and 5 of previous question with -99**"
      ],
      "metadata": {
        "id": "6JNs6BE9Exsf"
      }
    },
    {
      "cell_type": "code",
      "source": [
        "seq<-seq(0.1, 4.8 ,by = 0.1)\n",
        "sort<-sort(seq,decreasing = TRUE)\n",
        "matrix<- array(sort,dim=c(4,2,6))\n",
        "matrix[c(2,4),2,c(1,3,5)]<- -99\n",
        "print(matrix)\n"
      ],
      "metadata": {
        "colab": {
          "base_uri": "https://localhost:8080/"
        },
        "id": "hWcx0E01Ev7C",
        "outputId": "b33a7183-2e6d-4e8f-9dc2-da63b3a29ffa"
      },
      "execution_count": null,
      "outputs": [
        {
          "output_type": "stream",
          "name": "stdout",
          "text": [
            ", , 1\n",
            "\n",
            "     [,1]  [,2]\n",
            "[1,]  4.8   4.4\n",
            "[2,]  4.7 -99.0\n",
            "[3,]  4.6   4.2\n",
            "[4,]  4.5 -99.0\n",
            "\n",
            ", , 2\n",
            "\n",
            "     [,1] [,2]\n",
            "[1,]  4.0  3.6\n",
            "[2,]  3.9  3.5\n",
            "[3,]  3.8  3.4\n",
            "[4,]  3.7  3.3\n",
            "\n",
            ", , 3\n",
            "\n",
            "     [,1]  [,2]\n",
            "[1,]  3.2   2.8\n",
            "[2,]  3.1 -99.0\n",
            "[3,]  3.0   2.6\n",
            "[4,]  2.9 -99.0\n",
            "\n",
            ", , 4\n",
            "\n",
            "     [,1] [,2]\n",
            "[1,]  2.4  2.0\n",
            "[2,]  2.3  1.9\n",
            "[3,]  2.2  1.8\n",
            "[4,]  2.1  1.7\n",
            "\n",
            ", , 5\n",
            "\n",
            "     [,1]  [,2]\n",
            "[1,]  1.6   1.2\n",
            "[2,]  1.5 -99.0\n",
            "[3,]  1.4   1.0\n",
            "[4,]  1.3 -99.0\n",
            "\n",
            ", , 6\n",
            "\n",
            "     [,1] [,2]\n",
            "[1,]  0.8  0.4\n",
            "[2,]  0.7  0.3\n",
            "[3,]  0.6  0.2\n",
            "[4,]  0.5  0.1\n",
            "\n"
          ]
        }
      ]
    }
  ]
}