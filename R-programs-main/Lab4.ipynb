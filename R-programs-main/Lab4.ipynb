{
  "nbformat": 4,
  "nbformat_minor": 0,
  "metadata": {
    "colab": {
      "provenance": [],
      "authorship_tag": "ABX9TyPVgAzPAR0VjiWVig/ufOcJ",
      "include_colab_link": true
    },
    "kernelspec": {
      "name": "ir",
      "display_name": "R"
    },
    "language_info": {
      "name": "R"
    }
  },
  "cells": [
    {
      "cell_type": "markdown",
      "metadata": {
        "id": "view-in-github",
        "colab_type": "text"
      },
      "source": [
        "<a href=\"https://colab.research.google.com/github/Hussainaquib/R-programs/blob/main/Lab4.ipynb\" target=\"_parent\"><img src=\"https://colab.research.google.com/assets/colab-badge.svg\" alt=\"Open In Colab\"/></a>"
      ]
    },
    {
      "cell_type": "markdown",
      "source": [
        "**create a list that contains , in this order ,a sequence of 20 evenly spaced numbers between -4 and 4; a 3X3 matrix of the logical vector c(F,T,T,T,F,T,T,F,F) filled column-wise; a character vector with the two strings \"don\" and \"quixote\" , and a factor vector containing the observations c(\"LOW\",\"MED\",\"LOW\",\"MED\",\"MED\",\"HIGH\") . then extract row elements 2 and 1 of columns 2 and 3, in that order, of the logical matrix.**"
      ],
      "metadata": {
        "id": "ZhhkPSPaN29D"
      }
    },
    {
      "cell_type": "code",
      "execution_count": 2,
      "metadata": {
        "colab": {
          "base_uri": "https://localhost:8080/"
        },
        "id": "PUL2oSxzLs9c",
        "outputId": "e0cc402c-99a0-4e6b-af7f-a48b975938f3"
      },
      "outputs": [
        {
          "output_type": "stream",
          "name": "stdout",
          "text": [
            "      [,1]  [,2]\n",
            "[1,] FALSE FALSE\n",
            "[2,]  TRUE  TRUE\n"
          ]
        }
      ],
      "source": [
        "sequence <- seq(-4, 4, length.out = 20)\n",
        "logical_matrix <- matrix(c(FALSE, TRUE, TRUE, TRUE, FALSE, TRUE, TRUE, FALSE, FALSE), nrow = 3, ncol = 3, byrow = FALSE)\n",
        "character_vector <- c(\"don\", \"quixote\")\n",
        "factor_vector <- factor(c(\"LOW\", \"MED\", \"LOW\", \"MED\", \"MED\", \"HIGH\"))\n",
        "extracted_elements <- logical_matrix[c(2, 1), c(2, 3)]\n",
        "print(extracted_elements)"
      ]
    },
    {
      "cell_type": "markdown",
      "source": [
        "**Create and store this data frame as d frame with the field of person , sex . Append the two new records**"
      ],
      "metadata": {
        "id": "BA4KFx8pO3-d"
      }
    },
    {
      "cell_type": "code",
      "source": [
        "d <- data.frame(\n",
        "  person = character(),\n",
        "  sex = character(),\n",
        "  funny = character(),\n",
        "  age = numeric(),\n",
        "  stringsAsFactors = FALSE\n",
        ")\n",
        "\n",
        "new <- data.frame(\n",
        "  person = c(\"Sohan\", \"Arti\"),\n",
        "  sex = c(\"Male\", \"Female\"),\n",
        "  funny = c(\"LOW\", \"MED\"),\n",
        "  age = c(25, 30),\n",
        "  stringsAsFactors = FALSE\n",
        ")\n",
        "\n",
        "d <- rbind(d, new)\n",
        "print(d)"
      ],
      "metadata": {
        "colab": {
          "base_uri": "https://localhost:8080/"
        },
        "id": "TvfKwHdwO6k_",
        "outputId": "9a58a9d1-9645-4b9b-c282-25ae04754524"
      },
      "execution_count": 16,
      "outputs": [
        {
          "output_type": "stream",
          "name": "stdout",
          "text": [
            "  person    sex funny age\n",
            "1  Sohan   Male   LOW  25\n",
            "2   Arti Female   MED  30\n"
          ]
        }
      ]
    },
    {
      "cell_type": "markdown",
      "source": [
        "**Write a single of code that will extract from my data frame just the names and ages of any records where the individual is female and has a level of funniness equal to MED or HIGH**"
      ],
      "metadata": {
        "id": "3qIrxT2zP9SJ"
      }
    },
    {
      "cell_type": "code",
      "source": [
        "d <- data.frame(\n",
        "  person = character(),\n",
        "  sex = character(),\n",
        "  funny = character(),\n",
        "  age = numeric(),\n",
        "  stringsAsFactors = FALSE\n",
        ")\n",
        "\n",
        "new <- data.frame(\n",
        "  person = c(\"Sohan\", \"Arti\"),\n",
        "  sex = c(\"Male\", \"Female\"),\n",
        "  funny = c(\"LOW\", \"MED\"),\n",
        "  age = c(25, 30),\n",
        "  stringsAsFactors = FALSE\n",
        ")\n",
        "\n",
        "d <- rbind(d, new)\n",
        "selected_records <- d[d_frame$sex == \"Female\" & d$funny %in% c(\"MED\", \"HIGH\"), c(\"person\", \"age\")]\n",
        "print(selected_records)\n"
      ],
      "metadata": {
        "colab": {
          "base_uri": "https://localhost:8080/"
        },
        "id": "yz23sisbP_WW",
        "outputId": "eddcb630-2102-4523-f46e-69f1a2df1d0b"
      },
      "execution_count": 17,
      "outputs": [
        {
          "output_type": "stream",
          "name": "stdout",
          "text": [
            "  person age\n",
            "2   Arti  30\n"
          ]
        }
      ]
    },
    {
      "cell_type": "markdown",
      "source": [
        "**use your knowledge of handling character strings in R to extract all records from my data frame d that corresponds to people whose names start with S**"
      ],
      "metadata": {
        "id": "_xz_18VAUtRz"
      }
    },
    {
      "cell_type": "code",
      "source": [
        "d <- data.frame(\n",
        "  person = character(),\n",
        "  sex = character(),\n",
        "  funny = character(),\n",
        "  age = numeric(),\n",
        "  stringsAsFactors = FALSE\n",
        ")\n",
        "\n",
        "new <- data.frame(\n",
        "  person = c(\"Sohan\", \"Arti\"),\n",
        "  sex = c(\"Male\", \"Female\"),\n",
        "  funny = c(\"LOW\", \"MED\"),\n",
        "  age = c(25, 30),\n",
        "  stringsAsFactors = FALSE\n",
        ")\n",
        "\n",
        "d <- rbind(d, new)\n",
        "subset <- d[grep(\"^S\", d$person), ]\n",
        "print(subset)\n"
      ],
      "metadata": {
        "colab": {
          "base_uri": "https://localhost:8080/"
        },
        "id": "ChHP4dsCU0GB",
        "outputId": "48c855bc-0f5c-4d7c-c1f8-c367c31f433a"
      },
      "execution_count": 18,
      "outputs": [
        {
          "output_type": "stream",
          "name": "stdout",
          "text": [
            "  person  sex funny age\n",
            "1  Sohan Male   LOW  25\n"
          ]
        }
      ]
    }
  ]
}