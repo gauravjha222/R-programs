{
  "nbformat": 4,
  "nbformat_minor": 0,
  "metadata": {
    "colab": {
      "provenance": [],
      "authorship_tag": "ABX9TyMsE8aG05umIQwG066rhrby",
      "include_colab_link": true
    },
    "kernelspec": {
      "name": "ir",
      "display_name": "R"
    },
    "language_info": {
      "name": "R"
    }
  },
  "cells": [
    {
      "cell_type": "markdown",
      "metadata": {
        "id": "view-in-github",
        "colab_type": "text"
      },
      "source": [
        "<a href=\"https://colab.research.google.com/github/Hussainaquib/R-programs/blob/main/Lab1.ipynb\" target=\"_parent\"><img src=\"https://colab.research.google.com/assets/colab-badge.svg\" alt=\"Open In Colab\"/></a>"
      ]
    },
    {
      "cell_type": "markdown",
      "source": [
        "**Develop the R program for basic mathematical computation-square,square root,exponential**"
      ],
      "metadata": {
        "id": "ChllTwWssJ37"
      }
    },
    {
      "cell_type": "code",
      "execution_count": null,
      "metadata": {
        "colab": {
          "base_uri": "https://localhost:8080/"
        },
        "id": "uzWsjpQNrIAf",
        "outputId": "2feb3051-2cc8-4665-9c2d-4f31af0a15c3"
      },
      "outputs": [
        {
          "output_type": "stream",
          "name": "stdout",
          "text": [
            "[1] 16\n",
            "[1] 2\n",
            "[1] 54.59815\n"
          ]
        }
      ],
      "source": [
        "b<-4\n",
        "square<-b^2\n",
        "print(square)\n",
        "\n",
        "square_root<-sqrt(b)\n",
        "print(square_root)\n",
        "\n",
        "exponential<-exp(b)\n",
        "print(exponential)"
      ]
    },
    {
      "cell_type": "markdown",
      "source": [
        "**Create an object X that stores the value then overwrite the object in by itself divided by Y.**"
      ],
      "metadata": {
        "id": "ZUVzgThItT6c"
      }
    },
    {
      "cell_type": "code",
      "source": [
        "X<-2\n",
        "Y<-5\n",
        "X<-X/Y\n",
        "print(X)"
      ],
      "metadata": {
        "colab": {
          "base_uri": "https://localhost:8080/"
        },
        "id": "abp48dNbtzVC",
        "outputId": "036831ca-a841-4afc-fbde-b73e1c7f379a"
      },
      "execution_count": null,
      "outputs": [
        {
          "output_type": "stream",
          "name": "stdout",
          "text": [
            "[1] 0.4\n"
          ]
        }
      ]
    },
    {
      "cell_type": "markdown",
      "source": [
        "**Create and store a sequence of values from x to y that progresses in step of 0.3**"
      ],
      "metadata": {
        "id": "qV81mHQ_t82P"
      }
    },
    {
      "cell_type": "code",
      "source": [
        "sequence<-seq(1,10,by=0.3)\n",
        "print(sequence)"
      ],
      "metadata": {
        "colab": {
          "base_uri": "https://localhost:8080/"
        },
        "id": "S27gBA6_uUyB",
        "outputId": "bb09bed6-11f9-499e-ac17-4f6cd22cd33f"
      },
      "execution_count": null,
      "outputs": [
        {
          "output_type": "stream",
          "name": "stdout",
          "text": [
            " [1]  1.0  1.3  1.6  1.9  2.2  2.5  2.8  3.1  3.4  3.7  4.0  4.3  4.6  4.9  5.2\n",
            "[16]  5.5  5.8  6.1  6.4  6.7  7.0  7.3  7.6  7.9  8.2  8.5  8.8  9.1  9.4  9.7\n",
            "[31] 10.0\n"
          ]
        }
      ]
    },
    {
      "cell_type": "markdown",
      "source": [
        "**Overwrite the existing object using the same sequence with the order reversed**"
      ],
      "metadata": {
        "id": "C4Trk6khudkX"
      }
    },
    {
      "cell_type": "code",
      "source": [
        "sequence<-seq(1,10)\n",
        "sort<-sort(sequence,decreasing=TRUE)\n",
        "print(sort)"
      ],
      "metadata": {
        "colab": {
          "base_uri": "https://localhost:8080/"
        },
        "id": "pO8TztfyuwgT",
        "outputId": "b534b4ae-5bea-4e02-a392-c50a489bd0a0"
      },
      "execution_count": null,
      "outputs": [
        {
          "output_type": "stream",
          "name": "stdout",
          "text": [
            " [1] 10  9  8  7  6  5  4  3  2  1\n"
          ]
        }
      ]
    },
    {
      "cell_type": "markdown",
      "source": [
        "**Confirm that the length of the vector created is 20**"
      ],
      "metadata": {
        "id": "bIFQoSfRvAG1"
      }
    },
    {
      "cell_type": "code",
      "source": [
        "seq<-seq(1,20)\n",
        "vector<-c(seq)\n",
        "length<-length(vector)\n",
        "print(length)"
      ],
      "metadata": {
        "colab": {
          "base_uri": "https://localhost:8080/"
        },
        "id": "e18Nev3RvKHf",
        "outputId": "f6b4b687-c6b9-4fff-d054-72317a73afc5"
      },
      "execution_count": null,
      "outputs": [
        {
          "output_type": "stream",
          "name": "stdout",
          "text": [
            "[1] 20\n"
          ]
        }
      ]
    },
    {
      "cell_type": "markdown",
      "source": [
        "**Extract the first and last elements of already created vector from, storing them as a new object.**"
      ],
      "metadata": {
        "id": "o3B6FH7Kvagp"
      }
    },
    {
      "cell_type": "code",
      "source": [
        "seq<-seq(1,20)\n",
        "vector<-c(seq)\n",
        "length<-length(vector)\n",
        "vector1<-vector[c(1,length)]\n",
        "print(vector1)"
      ],
      "metadata": {
        "colab": {
          "base_uri": "https://localhost:8080/"
        },
        "id": "StnJQtCwvsRf",
        "outputId": "8ce5699e-4af3-4020-9578-d3681d6e8dbb"
      },
      "execution_count": null,
      "outputs": [
        {
          "output_type": "stream",
          "name": "stdout",
          "text": [
            "[1]  1 20\n"
          ]
        }
      ]
    }
  ]
}